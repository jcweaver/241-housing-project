{
 "cells": [
  {
   "cell_type": "code",
   "execution_count": 66,
   "id": "56b17da1-b35d-4169-991c-682001170378",
   "metadata": {},
   "outputs": [],
   "source": [
    "import pandas as pd\n",
    "import random"
   ]
  },
  {
   "cell_type": "code",
   "execution_count": 67,
   "id": "087572fa-fd82-4f88-87f9-8ccb4f3861bf",
   "metadata": {},
   "outputs": [],
   "source": [
    "df = pd.read_csv(\"pairs_info.csv\")"
   ]
  },
  {
   "cell_type": "code",
   "execution_count": 72,
   "id": "cc595033-a020-4d76-b22e-76b9fd29422c",
   "metadata": {},
   "outputs": [],
   "source": [
    "def make_iframes(link):\n",
    "    if type(link)==str:\n",
    "        id = link[27:]\n",
    "        iframe = f\"\"\"<iframe width=\"100%\" height=\"401\" frameborder=\"0\"\n",
    "      src=\"https://observablehq.com/embed/{id}?cells=test\"></iframe>\"\"\"\n",
    "        return iframe\n",
    "    else:\n",
    "        return \"\""
   ]
  },
  {
   "cell_type": "code",
   "execution_count": 83,
   "id": "2be4bd9a-a16c-471d-8f1f-880beebe2e80",
   "metadata": {},
   "outputs": [],
   "source": [
    "df['iframe'] = df['new_link'].apply(lambda x:make_iframes(x))"
   ]
  },
  {
   "cell_type": "code",
   "execution_count": 85,
   "id": "6bfb1527-4fcb-451f-869a-3f0e9330b2f5",
   "metadata": {},
   "outputs": [],
   "source": [
    "def get_house_info(df,pair):\n",
    "    \"\"\"Given the full dataframe and a specified pair, returns a table\n",
    "    with the info for two comparable, hypothetical properties in the area,\n",
    "    along with a list of the iframes for each neighborhood\"\"\"\n",
    "    # create temporary dataframe that includes the two neighborhoods in the pair\n",
    "    temp_df = df.loc[df['Pair_ID'] == pair]\n",
    "    # generate a number of beds by using the avegerage median rooms value\n",
    "    beds = int(temp_df.median_rooms.mean() - .25*temp_df.median_rooms.mean())\n",
    "    # generate a number of baths\n",
    "    baths = round(temp_df.median_rooms.mean()) - beds\n",
    "    # generate a square feet\n",
    "    sq_feet = beds*602 + baths*151\n",
    "    # create offset for sqare feet\n",
    "    offset1 = random.randint(-15,15)\n",
    "    # prevent offset from being 0\n",
    "    while offset1 == 0:\n",
    "        offset1 = random.randint(-15,15)\n",
    "    # generate year built\n",
    "    year_built = random.randint(1980,2005)\n",
    "    # create offset for year built\n",
    "    offset2 = random.randint(-3,3)\n",
    "    # prevent offset from being 0\n",
    "    while offset2 == 0:\n",
    "        offset2 = random.randint(-3,3)\n",
    "    # get the iframes\n",
    "    iframes = temp_df.iframe.to_list()\n",
    "    property_info = {'Property 1': temp_df.GEOID.to_list()[0],'Property 2': temp_df.GEOID.to_list()[1]}\n",
    "    housing_info = {\n",
    "                    'Population Density/sq. mile':temp_df.population_density.astype('int32').to_list(),\n",
    "                    'Walk Score':temp_df.NatWalkInd.astype('int32').to_list(),\n",
    "                    'Median Household Income':temp_df.median_income.astype('int32').to_list(),\n",
    "                    'Median Age of Residents':temp_df.median_age.astype('int32').to_list(),\n",
    "                    'Median Rooms per Household':temp_df.median_rooms.astype('int32').to_list(),\n",
    "                    'Bedrooms':[beds, beds],\n",
    "                    'Bathrooms':[baths, baths],\n",
    "                    'Square Feet': [sq_feet,sq_feet + offset1],\n",
    "                    'Year Built': [year_built,year_built + offset2]\n",
    "                   }              \n",
    "    df = pd.DataFrame(housing_info).transpose()\n",
    "    df.columns = ['Property 1', 'Property 2']\n",
    "    table = df.to_html(justify='center',bold_rows=True)\n",
    "    return [table,property_info,iframes]"
   ]
  },
  {
   "cell_type": "code",
   "execution_count": 91,
   "id": "c4b6445e-7ef6-4524-a3a1-07b3ccd43998",
   "metadata": {},
   "outputs": [],
   "source": [
    "def get_question_html(df,pairs):\n",
    "    questions = []\n",
    "    questions_with_iframes = []\n",
    "    intro = \"\"\"<div style=\"text-align: left;\">Given the following information \n",
    "                about two properties, please choose which is more valuable and\n",
    "                estimate its dollar amount difference over the other.</div>\n",
    "                <div style=\"text-align: left;\">&nbsp;\n",
    "                \"\"\"\n",
    "    for pair in good_pairs:\n",
    "        info = get_house_info(df,pair)\n",
    "        table = info[0]\n",
    "        geoids = info[1]\n",
    "        metadata = f\"\"\"Pair number {pair}\\nProperty 1 GeoID: {geoids.get('Property 1')}\\nProperty 2 GeoID: {geoids.get('Property 2')}\"\"\"\n",
    "        html = intro + table\n",
    "        questions.append((metadata,html))\n",
    "        iframe = info[2]\n",
    "        ending = f\"\"\"<br><span style=\"font-size:19px;\">Neighborhood of Property\n",
    "                    1</span><br>{iframe[0]}<br><br><span style=\"font-size:19px;\">\n",
    "                    Neighborhood of Property 2</span><br>{iframe[1]}</div>\n",
    "                    \"\"\"\n",
    "        html_iframe = intro + table + ending\n",
    "        questions_with_iframes.append((metadata,html_iframe))\n",
    "    return questions,questions_with_iframes"
   ]
  },
  {
   "cell_type": "code",
   "execution_count": 87,
   "id": "9a5dc94c-fb14-4871-bffe-4895fb573965",
   "metadata": {},
   "outputs": [],
   "source": [
    "def save_questions(questions,filename):\n",
    "    with open(filename,\"w\") as text_file:\n",
    "        for question in questions:\n",
    "            text_file.write(f\"*******\\n{question[0]}\\n*******\\n\\n\")\n",
    "            print(question[1], file=text_file)\n",
    "            text_file.write(f\"\\n\")"
   ]
  },
  {
   "cell_type": "code",
   "execution_count": 88,
   "id": "04a2d485-e853-42b2-999c-fa3594f69b44",
   "metadata": {},
   "outputs": [],
   "source": [
    "good_pairs = [3,10,11,13,14,15,16,17,18,20,25]"
   ]
  },
  {
   "cell_type": "code",
   "execution_count": 92,
   "id": "eb1524e2-9eee-41e0-abd9-91d626facdc3",
   "metadata": {},
   "outputs": [],
   "source": [
    "def run(df,pairs):\n",
    "    questions,questions_with_iframes = get_question_html(df,pairs)\n",
    "    save_questions(questions,'questions_without_iframes.txt')\n",
    "    save_questions(questions_with_iframes,'questions_with_iframes.txt')"
   ]
  },
  {
   "cell_type": "code",
   "execution_count": 93,
   "id": "0ac67bf6-9e20-4036-a1df-552e471a0b9e",
   "metadata": {},
   "outputs": [],
   "source": [
    "run(df,good_pairs)"
   ]
  },
  {
   "cell_type": "code",
   "execution_count": null,
   "id": "0562550b-ed76-4457-8827-0f93b3fe95a3",
   "metadata": {},
   "outputs": [],
   "source": []
  }
 ],
 "metadata": {
  "kernelspec": {
   "display_name": "Python 3",
   "language": "python",
   "name": "python3"
  },
  "language_info": {
   "codemirror_mode": {
    "name": "ipython",
    "version": 3
   },
   "file_extension": ".py",
   "mimetype": "text/x-python",
   "name": "python",
   "nbconvert_exporter": "python",
   "pygments_lexer": "ipython3",
   "version": "3.7.7"
  }
 },
 "nbformat": 4,
 "nbformat_minor": 5
}
